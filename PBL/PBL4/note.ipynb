{
 "cells": [
  {
   "cell_type": "code",
   "execution_count": 43,
   "metadata": {},
   "outputs": [],
   "source": [
    "import datetime\n",
    "import pandas as pd\n",
    "import matplotlib.pyplot as plt\n",
    "import numpy as np\n",
    "\n",
    "class Sales_data:\n",
    "    def __init__(self):\n",
    "        self.dates= pd.date_range('2024-01-01', '2024-12-31', freq='D')\n",
    "\n",
    "        self.sales = {\n",
    "            'Date' : self.dates,\n",
    "            'Sales' : np.random.randint(1000,10000,len(self.dates))\n",
    "        }\n",
    "        \n",
    "        self.df = pd.DataFrame(self.sales)\n",
    "        self.df['Month'] = self.df['Date'].dt.month\n",
    "        self.monthly  = self.df.groupby('Month')['Sales'].sum()\n",
    "\n",
    "    \n",
    "    def visualize(self): \n",
    "        plt.plot(self.monthly['Month'], self.monthly['Sales'], marker='o', color='blue' )\n",
    "\n",
    "        plt.title(\"월별 매출 총합\")\n",
    "        plt.xlabel(\"월\")\n",
    "        plt.ylabel(\"매출\")\n",
    "\n",
    "        plt.show()"
   ]
  },
  {
   "cell_type": "code",
   "execution_count": 44,
   "metadata": {},
   "outputs": [
    {
     "name": "stdout",
     "output_type": "stream",
     "text": [
      "          Date  Sales  Month\n",
      "0   2024-01-01   6957      1\n",
      "1   2024-01-02   5641      1\n",
      "2   2024-01-03   3866      1\n",
      "3   2024-01-04   5166      1\n",
      "4   2024-01-05   5107      1\n",
      "..         ...    ...    ...\n",
      "361 2024-12-27   3431     12\n",
      "362 2024-12-28   6754     12\n",
      "363 2024-12-29   1924     12\n",
      "364 2024-12-30   8309     12\n",
      "365 2024-12-31   9244     12\n",
      "\n",
      "[366 rows x 3 columns]\n"
     ]
    }
   ],
   "source": [
    "sales_data = Sales_data()\n",
    "print(sales_data.df)"
   ]
  }
 ],
 "metadata": {
  "kernelspec": {
   "display_name": "Python 3",
   "language": "python",
   "name": "python3"
  },
  "language_info": {
   "codemirror_mode": {
    "name": "ipython",
    "version": 3
   },
   "file_extension": ".py",
   "mimetype": "text/x-python",
   "name": "python",
   "nbconvert_exporter": "python",
   "pygments_lexer": "ipython3",
   "version": "3.13.1"
  }
 },
 "nbformat": 4,
 "nbformat_minor": 2
}

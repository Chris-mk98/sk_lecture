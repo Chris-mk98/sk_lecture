{
 "cells": [
  {
   "cell_type": "code",
   "execution_count": 37,
   "metadata": {},
   "outputs": [],
   "source": [
    "class StudentScores:\n",
    "    def __init__(self):\n",
    "        self.scores = {}\n",
    "    \n",
    "    def get_data(self, file_name):\n",
    "        with open(file_name, encoding='utf8') as f:\n",
    "            lines = f.readlines()\n",
    "            for line in lines:\n",
    "                line = line.split(',')\n",
    "                self.scores[line[0]] = int(line[1])\n",
    "        return self.scores\n",
    "    \n",
    "    def total_score(self):\n",
    "        return sum(self.scores.values())\n",
    "    \n",
    "    def mean_score(self):\n",
    "        return self.total_score()/len(self.scores.values())\n"
   ]
  },
  {
   "cell_type": "code",
   "execution_count": 38,
   "metadata": {},
   "outputs": [],
   "source": [
    "Test = StudentScores()"
   ]
  },
  {
   "cell_type": "code",
   "execution_count": 39,
   "metadata": {},
   "outputs": [
    {
     "name": "stdout",
     "output_type": "stream",
     "text": [
      "{'김철수': 85, '박영희': 90, '이민호': 78, '최다은': 92, '강은지': 88}\n"
     ]
    }
   ],
   "source": [
    "print(Test.get_data('scores_korean.txt'))"
   ]
  },
  {
   "cell_type": "code",
   "execution_count": 41,
   "metadata": {},
   "outputs": [
    {
     "data": {
      "text/plain": [
       "433"
      ]
     },
     "execution_count": 41,
     "metadata": {},
     "output_type": "execute_result"
    }
   ],
   "source": [
    "sum(Test.scores.values())"
   ]
  },
  {
   "cell_type": "code",
   "execution_count": 43,
   "metadata": {},
   "outputs": [],
   "source": [
    "class StudentScores:\n",
    "    def __init__(self):\n",
    "        self.scores = {}\n",
    "        self.high = []\n",
    "        self.low = []\n",
    "    \n",
    "    def get_data(self, file_name):\n",
    "        try:\n",
    "            with open(file_name, encoding='utf8') as f:\n",
    "                lines = f.readlines()\n",
    "                for line in lines:\n",
    "                    line = line.split(',')\n",
    "                    self.scores[line[0]] = int(line[1])\n",
    "        except:\n",
    "            print(\"파일 읽기 오류\")\n",
    "    \n",
    "    def total_score(self):\n",
    "        return sum(self.scores.values())\n",
    "    \n",
    "    def mean_score(self):\n",
    "        return self.total_score()/len(self.scores.values())\n",
    "\n",
    "    def high_score(self):\n",
    "        return [student for (student, score) in self.scores if score >= self.mean_score]\n",
    "\n",
    "    def low_score(self):\n",
    "        try:\n",
    "            file = open('below_average_korean.txt', 'w')\n",
    "            for (student, score) in self.scores:\n",
    "                if score <= self.mean_score:\n",
    "                    file.write(student,'\\n')\n",
    "        except:\n",
    "            print(\"파일 쓰기 오류\")\n",
    "\n",
    "    def result_print(self):\n",
    "        return(f\"\"\"\n",
    "\n",
    "----------------------------------------------------------------\n",
    "\n",
    "평균 점수: {self.mean_score}\n",
    "\n",
    "평균 이상을 받은 학생들: {self.high_score}\n",
    "\n",
    "----------------------------------------------------------------\n",
    "\"\"\")\n",
    "        \n",
    "\n",
    "if __name__ == '__name__':\n",
    "    Test = StudentScores()\n",
    "    Test.getdata('scores_korean.txt')\n",
    "    Test.low_score()\n",
    "    print(Test.result_print())\n",
    "    "
   ]
  }
 ],
 "metadata": {
  "kernelspec": {
   "display_name": "Python 3",
   "language": "python",
   "name": "python3"
  },
  "language_info": {
   "codemirror_mode": {
    "name": "ipython",
    "version": 3
   },
   "file_extension": ".py",
   "mimetype": "text/x-python",
   "name": "python",
   "nbconvert_exporter": "python",
   "pygments_lexer": "ipython3",
   "version": "3.13.1"
  }
 },
 "nbformat": 4,
 "nbformat_minor": 2
}

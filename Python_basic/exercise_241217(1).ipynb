{
 "cells": [
  {
   "cell_type": "code",
   "execution_count": 1,
   "metadata": {},
   "outputs": [],
   "source": [
    "import pandas as pd\n",
    "data = {\n",
    "'City': ['Seoul', 'Seoul', 'Busan', 'Busan',\n",
    "'Daegu'],\n",
    "'Year': [2021, 2022, 2021, 2022, 2021],\n",
    "'Sales': [500, 700, 200, 300, 400]\n",
    "}\n",
    "df = pd.DataFrame(data)\n"
   ]
  },
  {
   "cell_type": "code",
   "execution_count": 8,
   "metadata": {},
   "outputs": [
    {
     "name": "stdout",
     "output_type": "stream",
     "text": [
      "Year\n",
      "2021    1100\n",
      "2022    1000\n",
      "Name: Sales, dtype: int64\n",
      "       Sales\n",
      "City        \n",
      "Busan    500\n",
      "Daegu    400\n",
      "Seoul   1200\n"
     ]
    }
   ],
   "source": [
    "groupby = df.groupby('Year')['Sales'].sum()\n",
    "pivot_table = df.pivot_table(values='Sales', index='City', aggfunc='sum')\n",
    "\n",
    "print(groupby)\n",
    "print(pivot_table)"
   ]
  }
 ],
 "metadata": {
  "kernelspec": {
   "display_name": "Python 3",
   "language": "python",
   "name": "python3"
  },
  "language_info": {
   "codemirror_mode": {
    "name": "ipython",
    "version": 3
   },
   "file_extension": ".py",
   "mimetype": "text/x-python",
   "name": "python",
   "nbconvert_exporter": "python",
   "pygments_lexer": "ipython3",
   "version": "3.13.1"
  }
 },
 "nbformat": 4,
 "nbformat_minor": 2
}

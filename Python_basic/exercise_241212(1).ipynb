{
 "cells": [
  {
   "cell_type": "code",
   "execution_count": 3,
   "metadata": {},
   "outputs": [],
   "source": [
    "korean = 50\n",
    "english = 86\n",
    "math = 76\n",
    "\n",
    "total = korean + english + math\n",
    "mean = total/3"
   ]
  },
  {
   "cell_type": "code",
   "execution_count": 4,
   "metadata": {},
   "outputs": [
    {
     "name": "stdout",
     "output_type": "stream",
     "text": [
      "\n",
      "korean = 50\n",
      "english = 86\n",
      "math = 76\n",
      "\n",
      "total = 212, mean = 70.66666666666667\n"
     ]
    }
   ],
   "source": [
    "\n",
    "\n",
    "print(f'''\n",
    "korean = {korean}\n",
    "english = {english}\n",
    "math = {math}\n",
    "''')\n",
    "print(f'total = {total}, mean = {mean}')"
   ]
  },
  {
   "cell_type": "code",
   "execution_count": 10,
   "metadata": {},
   "outputs": [],
   "source": [
    "gender = 'male'\n",
    "age = 10"
   ]
  },
  {
   "cell_type": "code",
   "execution_count": 11,
   "metadata": {},
   "outputs": [
    {
     "name": "stdout",
     "output_type": "stream",
     "text": [
      "False\n"
     ]
    }
   ],
   "source": [
    "gender = 'male' and age > 18\n",
    "print(gender)"
   ]
  }
 ],
 "metadata": {
  "kernelspec": {
   "display_name": "Python 3",
   "language": "python",
   "name": "python3"
  },
  "language_info": {
   "codemirror_mode": {
    "name": "ipython",
    "version": 3
   },
   "file_extension": ".py",
   "mimetype": "text/x-python",
   "name": "python",
   "nbconvert_exporter": "python",
   "pygments_lexer": "ipython3",
   "version": "3.13.1"
  }
 },
 "nbformat": 4,
 "nbformat_minor": 2
}

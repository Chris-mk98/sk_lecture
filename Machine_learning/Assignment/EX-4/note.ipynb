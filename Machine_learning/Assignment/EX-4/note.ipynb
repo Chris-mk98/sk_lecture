{
 "cells": [
  {
   "cell_type": "code",
   "execution_count": 2,
   "metadata": {},
   "outputs": [],
   "source": [
    "import pandas as pd\n",
    "from sklearn.preprocessing import LabelEncoder, OneHotEncoder\n",
    "\n",
    "df = pd.read_csv('adult.csv')\n"
   ]
  },
  {
   "cell_type": "code",
   "execution_count": 14,
   "metadata": {},
   "outputs": [
    {
     "name": "stdout",
     "output_type": "stream",
     "text": [
      "{'Japan', 'Italy', 'Hungary', 'Ecuador', '?', 'Dominican-Republic', 'Mexico', 'United-States', 'Haiti', 'Honduras', 'Canada', 'Nicaragua', 'El-Salvador', 'Laos', 'China', 'Jamaica', 'Portugal', 'Hong', 'Outlying-US(Guam-USVI-etc)', 'Germany', 'France', 'Guatemala', 'Cambodia', 'Ireland', 'Vietnam', 'Trinadad&Tobago', 'Scotland', 'Greece', 'Poland', 'India', 'Peru', 'South', 'Holand-Netherlands', 'Taiwan', 'England', 'Puerto-Rico', 'Iran', 'Cuba', 'Yugoslavia', 'Philippines', 'Thailand', 'Columbia'}\n"
     ]
    }
   ],
   "source": [
    "\n",
    "\n",
    "print(set(df['native-country']))\n"
   ]
  },
  {
   "cell_type": "code",
   "execution_count": 17,
   "metadata": {},
   "outputs": [
    {
     "name": "stdout",
     "output_type": "stream",
     "text": [
      "       workclass  education  marital-status  occupation  relationship  race  \\\n",
      "0              4          1               4           7             3     2   \n",
      "1              4         11               2           5             0     4   \n",
      "2              2          7               2          11             0     4   \n",
      "3              4         15               2           7             0     2   \n",
      "4              0         15               4           0             3     4   \n",
      "...          ...        ...             ...         ...           ...   ...   \n",
      "48837          4          7               2          13             5     4   \n",
      "48838          4         11               2           7             0     4   \n",
      "48839          4         11               6           1             4     4   \n",
      "48840          4         11               4           1             3     4   \n",
      "48841          5         11               2           4             5     4   \n",
      "\n",
      "       gender  native-country  \n",
      "0           1              39  \n",
      "1           1              39  \n",
      "2           1              39  \n",
      "3           1              39  \n",
      "4           0              39  \n",
      "...       ...             ...  \n",
      "48837       0              39  \n",
      "48838       1              39  \n",
      "48839       0              39  \n",
      "48840       1              39  \n",
      "48841       0              39  \n",
      "\n",
      "[48842 rows x 8 columns]\n"
     ]
    }
   ],
   "source": [
    "categories = ['workclass', 'education', 'marital-status', 'occupation', 'relationship', 'race', 'gender', 'native-country']\n",
    "\n",
    "label_matrix = pd.DataFrame()\n",
    "\n",
    "label_encoder = LabelEncoder()\n",
    "\n",
    "for category in categories:\n",
    "    label_matrix[category] = label_encoder.fit_transform(df[category])\n",
    "\n",
    "print(label_matrix)\n"
   ]
  }
 ],
 "metadata": {
  "kernelspec": {
   "display_name": "Python 3",
   "language": "python",
   "name": "python3"
  },
  "language_info": {
   "codemirror_mode": {
    "name": "ipython",
    "version": 3
   },
   "file_extension": ".py",
   "mimetype": "text/x-python",
   "name": "python",
   "nbconvert_exporter": "python",
   "pygments_lexer": "ipython3",
   "version": "3.13.1"
  }
 },
 "nbformat": 4,
 "nbformat_minor": 2
}

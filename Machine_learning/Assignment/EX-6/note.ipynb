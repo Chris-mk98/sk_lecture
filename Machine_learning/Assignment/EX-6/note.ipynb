{
 "cells": [
  {
   "cell_type": "code",
   "execution_count": 54,
   "metadata": {},
   "outputs": [],
   "source": [
    "import pandas as pd\n",
    "from sklearn.preprocessing import MinMaxScaler"
   ]
  },
  {
   "cell_type": "code",
   "execution_count": 55,
   "metadata": {},
   "outputs": [],
   "source": [
    "df =  pd.read_csv('diabetes.csv')\n"
   ]
  },
  {
   "cell_type": "code",
   "execution_count": 31,
   "metadata": {},
   "outputs": [
    {
     "name": "stdout",
     "output_type": "stream",
     "text": [
      "<class 'pandas.core.frame.DataFrame'>\n",
      "RangeIndex: 768 entries, 0 to 767\n",
      "Data columns (total 9 columns):\n",
      " #   Column                    Non-Null Count  Dtype  \n",
      "---  ------                    --------------  -----  \n",
      " 0   Pregnancies               768 non-null    int64  \n",
      " 1   Glucose                   768 non-null    int64  \n",
      " 2   BloodPressure             768 non-null    int64  \n",
      " 3   SkinThickness             768 non-null    int64  \n",
      " 4   Insulin                   768 non-null    int64  \n",
      " 5   BMI                       768 non-null    float64\n",
      " 6   DiabetesPedigreeFunction  768 non-null    float64\n",
      " 7   Age                       768 non-null    int64  \n",
      " 8   Outcome                   768 non-null    int64  \n",
      "dtypes: float64(2), int64(7)\n",
      "memory usage: 54.1 KB\n",
      "None\n",
      "Index(['Pregnancies', 'Glucose', 'BloodPressure', 'SkinThickness', 'Insulin',\n",
      "       'BMI', 'DiabetesPedigreeFunction', 'Age', 'Outcome'],\n",
      "      dtype='object')\n"
     ]
    }
   ],
   "source": [
    "print(df.info())\n",
    "# # print(df.describe)\n",
    "# # print(df.head())\n",
    "# print(df.isnull().sum())\n",
    "print(df.columns)"
   ]
  },
  {
   "cell_type": "code",
   "execution_count": 56,
   "metadata": {},
   "outputs": [
    {
     "name": "stdout",
     "output_type": "stream",
     "text": [
      "Pregnancies의 결측치 개수: 0개\n",
      "Glucose의 결측치 개수: 5개\n",
      "BloodPressure의 결측치 개수: 35개\n",
      "SkinThickness의 결측치 개수: 227개\n",
      "Insulin의 결측치 개수: 374개\n",
      "BMI의 결측치 개수: 11개\n",
      "DiabetesPedigreeFunction의 결측치 개수: 0개\n",
      "Age의 결측치 개수: 0개\n",
      "Outcome의 결측치 개수: 0개\n"
     ]
    },
    {
     "name": "stderr",
     "output_type": "stream",
     "text": [
      "C:\\Users\\user\\AppData\\Local\\Temp\\ipykernel_2796\\2525969572.py:12: FutureWarning: Setting an item of incompatible dtype is deprecated and will raise an error in a future version of pandas. Value '120.89453125' has dtype incompatible with int64, please explicitly cast to a compatible dtype first.\n",
      "  df.loc[df[column]==0,[column]] = df[column].mean()\n",
      "C:\\Users\\user\\AppData\\Local\\Temp\\ipykernel_2796\\2525969572.py:12: FutureWarning: Setting an item of incompatible dtype is deprecated and will raise an error in a future version of pandas. Value '69.10546875' has dtype incompatible with int64, please explicitly cast to a compatible dtype first.\n",
      "  df.loc[df[column]==0,[column]] = df[column].mean()\n",
      "C:\\Users\\user\\AppData\\Local\\Temp\\ipykernel_2796\\2525969572.py:12: FutureWarning: Setting an item of incompatible dtype is deprecated and will raise an error in a future version of pandas. Value '20.536458333333332' has dtype incompatible with int64, please explicitly cast to a compatible dtype first.\n",
      "  df.loc[df[column]==0,[column]] = df[column].mean()\n",
      "C:\\Users\\user\\AppData\\Local\\Temp\\ipykernel_2796\\2525969572.py:12: FutureWarning: Setting an item of incompatible dtype is deprecated and will raise an error in a future version of pandas. Value '79.79947916666667' has dtype incompatible with int64, please explicitly cast to a compatible dtype first.\n",
      "  df.loc[df[column]==0,[column]] = df[column].mean()\n"
     ]
    }
   ],
   "source": [
    "columns_missing = ['Glucose', 'BloodPressure', 'SkinThickness', 'Insulin', 'BMI' ]\n",
    "for column in df.columns:\n",
    "    if column in columns_missing:\n",
    "        missing = (df[column] == 0).sum()\n",
    "        print(f'{column}의 결측치 개수: {missing}개')\n",
    "    else:\n",
    "        missing = df[column].isnull().sum()\n",
    "        print(f'{column}의 결측치 개수: {missing}개')\n",
    "\n",
    "\n",
    "for column in columns_missing:\n",
    "    df.loc[df[column]==0,[column]] = df[column].mean()"
   ]
  },
  {
   "cell_type": "code",
   "execution_count": 57,
   "metadata": {},
   "outputs": [
    {
     "name": "stdout",
     "output_type": "stream",
     "text": [
      "{'SkinThickness': np.float64(51.33000000000004), 'Insulin': np.float64(519.9000000000012)}\n"
     ]
    }
   ],
   "source": [
    "outliers = {'SkinThickness': df['SkinThickness'].quantile(0.99), 'Insulin': df['Insulin'].quantile(0.99)}\n",
    "\n",
    "print(outliers)\n"
   ]
  },
  {
   "cell_type": "code",
   "execution_count": 58,
   "metadata": {},
   "outputs": [],
   "source": [
    "for (column, outlier) in outliers.items():\n",
    "    df.loc[df[column]>=outlier, [column]] = df[column].mean()\n"
   ]
  },
  {
   "cell_type": "code",
   "execution_count": 59,
   "metadata": {},
   "outputs": [],
   "source": [
    "# print(df['Age'])\n",
    "minmaxscaler = MinMaxScaler()\n",
    "df['Age'] = minmaxscaler.fit_transform(df[['Age']])\n",
    "# print(df['Age'])"
   ]
  },
  {
   "cell_type": "code",
   "execution_count": 60,
   "metadata": {},
   "outputs": [
    {
     "name": "stdout",
     "output_type": "stream",
     "text": [
      "Pregnancies의 결측치 개수: 0개\n",
      "Glucose의 결측치 개수: 0개\n",
      "BloodPressure의 결측치 개수: 0개\n",
      "SkinThickness의 결측치 개수: 0개\n",
      "Insulin의 결측치 개수: 0개\n",
      "BMI의 결측치 개수: 0개\n",
      "DiabetesPedigreeFunction의 결측치 개수: 0개\n",
      "Age의 결측치 개수: 0개\n",
      "Outcome의 결측치 개수: 0개\n"
     ]
    }
   ],
   "source": [
    "for column in df.columns:\n",
    "    if column in columns_missing:\n",
    "        missing = (df[column] == 0).sum()\n",
    "        print(f'{column}의 결측치 개수: {missing}개')\n",
    "    else:\n",
    "        missing = df[column].isnull().sum()\n",
    "        print(f'{column}의 결측치 개수: {missing}개')"
   ]
  }
 ],
 "metadata": {
  "kernelspec": {
   "display_name": "Python 3",
   "language": "python",
   "name": "python3"
  },
  "language_info": {
   "codemirror_mode": {
    "name": "ipython",
    "version": 3
   },
   "file_extension": ".py",
   "mimetype": "text/x-python",
   "name": "python",
   "nbconvert_exporter": "python",
   "pygments_lexer": "ipython3",
   "version": "3.13.1"
  }
 },
 "nbformat": 4,
 "nbformat_minor": 2
}

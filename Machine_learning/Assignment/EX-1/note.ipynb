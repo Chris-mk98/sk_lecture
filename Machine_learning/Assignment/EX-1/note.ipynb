{
 "cells": [
  {
   "cell_type": "code",
   "execution_count": 9,
   "metadata": {},
   "outputs": [],
   "source": [
    "import pandas as pd\n",
    "import numpy as np\n",
    "\n",
    "df = pd.read_csv('test.csv')"
   ]
  },
  {
   "cell_type": "code",
   "execution_count": 11,
   "metadata": {},
   "outputs": [
    {
     "name": "stdout",
     "output_type": "stream",
     "text": [
      "     PassengerId  Pclass                                          Name  \\\n",
      "0            892       3                              Kelly, Mr. James   \n",
      "1            893       3              Wilkes, Mrs. James (Ellen Needs)   \n",
      "2            894       2                     Myles, Mr. Thomas Francis   \n",
      "3            895       3                              Wirz, Mr. Albert   \n",
      "4            896       3  Hirvonen, Mrs. Alexander (Helga E Lindqvist)   \n",
      "..           ...     ...                                           ...   \n",
      "413         1305       3                            Spector, Mr. Woolf   \n",
      "414         1306       1                  Oliva y Ocana, Dona. Fermina   \n",
      "415         1307       3                  Saether, Mr. Simon Sivertsen   \n",
      "416         1308       3                           Ware, Mr. Frederick   \n",
      "417         1309       3                      Peter, Master. Michael J   \n",
      "\n",
      "        Sex       Age  SibSp  Parch              Ticket      Fare Embarked  \n",
      "0      male  34.50000      0      0              330911    7.8292        Q  \n",
      "1    female  47.00000      1      0              363272    7.0000        S  \n",
      "2      male  62.00000      0      0              240276    9.6875        Q  \n",
      "3      male  27.00000      0      0              315154    8.6625        S  \n",
      "4    female  22.00000      1      1             3101298   12.2875        S  \n",
      "..      ...       ...    ...    ...                 ...       ...      ...  \n",
      "413    male  30.27259      0      0           A.5. 3236    8.0500        S  \n",
      "414  female  39.00000      0      0            PC 17758  108.9000        C  \n",
      "415    male  38.50000      0      0  SOTON/O.Q. 3101262    7.2500        S  \n",
      "416    male  30.27259      0      0              359309    8.0500        S  \n",
      "417    male  30.27259      1      1                2668   22.3583        C  \n",
      "\n",
      "[418 rows x 10 columns]\n",
      "PassengerId    0\n",
      "Pclass         0\n",
      "Name           0\n",
      "Sex            0\n",
      "Age            0\n",
      "SibSp          0\n",
      "Parch          0\n",
      "Ticket         0\n",
      "Fare           1\n",
      "Embarked       0\n",
      "dtype: int64\n"
     ]
    }
   ],
   "source": [
    "df['Age'] = df['Age'].fillna(df['Age'].mean())\n",
    "df['Embarked'] = df['Embarked'].fillna(df['Embarked'].mode())\n",
    "df = df.drop('Cabin', axis=1)\n",
    "\n",
    "print(df)\n",
    "print(df.isnull().sum())"
   ]
  }
 ],
 "metadata": {
  "kernelspec": {
   "display_name": "Python 3",
   "language": "python",
   "name": "python3"
  },
  "language_info": {
   "codemirror_mode": {
    "name": "ipython",
    "version": 3
   },
   "file_extension": ".py",
   "mimetype": "text/x-python",
   "name": "python",
   "nbconvert_exporter": "python",
   "pygments_lexer": "ipython3",
   "version": "3.13.1"
  }
 },
 "nbformat": 4,
 "nbformat_minor": 2
}

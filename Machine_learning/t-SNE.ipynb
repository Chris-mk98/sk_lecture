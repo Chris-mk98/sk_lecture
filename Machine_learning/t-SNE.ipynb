{
 "cells": [
  {
   "cell_type": "code",
   "execution_count": 1,
   "metadata": {},
   "outputs": [],
   "source": [
    "import numpy as np\n",
    "import matplotlib.pyplot as plt\n",
    "from sklearn.datasets import fetch_openml\n",
    "from sklearn.manifold import TSNE\n",
    "from sklearn.preprocessing import StandardScaler\n",
    "\n",
    "import ssl\n",
    "ssl._create_default_https_context = ssl._create_unverified_context\n",
    "\n",
    "\n",
    "# import sys\n",
    "# sys.path.append(r'C:\\Users\\user\\Documents\\Python_Project\\.venv\\Lib\\site-packages\\sklearn\\datasets')\n",
    "\n"
   ]
  },
  {
   "cell_type": "code",
   "execution_count": 2,
   "metadata": {},
   "outputs": [
    {
     "name": "stdout",
     "output_type": "stream",
     "text": [
      "데이터 로드 중...\n"
     ]
    }
   ],
   "source": [
    "# 1. MNIST 데이터셋 불러오기\n",
    "# MNIST 데이터는 28x28 픽셀의 손글씨 숫자 이미지입니다.\n",
    "print(\"데이터 로드 중...\")\n",
    "mnist = fetch_openml('mnist_784', version=1)\n",
    "x, y = mnist.data, mnist.target # X: 이미지 벡터, y: 레이블"
   ]
  },
  {
   "cell_type": "code",
   "execution_count": null,
   "metadata": {},
   "outputs": [],
   "source": [
    "# 2. 데이터 전처리\n",
    "# t-SNE는 데이터 스케일에 민감하므로 표준화 필수\n",
    "print('데이터 전처리 중...')\n",
    "scaler = StandardScaler()\n",
    "x_scaled = scaler.fit_transform(x)"
   ]
  },
  {
   "cell_type": "code",
   "execution_count": null,
   "metadata": {},
   "outputs": [],
   "source": [
    "# 3. t-SNE 객체 생성\n",
    "tsne = TSNE(n_components=2, random_state=42, n_iter=1000, perplexity=30)\n",
    "x_tsne = tsne.fit_transform(x_scaled[:2000])"
   ]
  },
  {
   "cell_type": "code",
   "execution_count": null,
   "metadata": {},
   "outputs": [],
   "source": [
    "# 4. 시각화\n",
    "plt.figure(figsize=(10, 8))\n",
    "plt.scatter(x_tsne[:0], x_tsne[:1], c=y[:2000].astype(int), cmap='tab10', s=10)"
   ]
  }
 ],
 "metadata": {
  "kernelspec": {
   "display_name": "Python 3",
   "language": "python",
   "name": "python3"
  },
  "language_info": {
   "codemirror_mode": {
    "name": "ipython",
    "version": 3
   },
   "file_extension": ".py",
   "mimetype": "text/x-python",
   "name": "python",
   "nbconvert_exporter": "python",
   "pygments_lexer": "ipython3",
   "version": "3.13.1"
  }
 },
 "nbformat": 4,
 "nbformat_minor": 2
}
